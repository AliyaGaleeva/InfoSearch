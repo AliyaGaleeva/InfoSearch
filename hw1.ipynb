{
 "cells": [
  {
   "cell_type": "code",
   "execution_count": null,
   "metadata": {},
   "outputs": [],
   "source": [
    "import html2text \n",
    "import io \n",
    "import requests \n",
    "from bs4 import BeautifulSoup \n",
    "from six.moves.urllib.parse import urlparse"
   ]
  },
  {
   "cell_type": "code",
   "execution_count": null,
   "metadata": {},
   "outputs": [],
   "source": [
    "def get_page_links(page_url):\n",
    "    reqs = requests.get(page_url)\n",
    "    soup = BeautifulSoup(reqs.text, 'html.parser')\n",
    "    urls = []\n",
    "    for link in soup.find_all('a'):\n",
    "        full_link = str(link.get('href'))\n",
    "        if full_link.startswith('/'):\n",
    "            domen = get_page_domen(page_url)\n",
    "            full_link = str(domen) + full_link\n",
    "        if full_link.startswith('http'):\n",
    "            urls.append(full_link)\n",
    "    unique_urls = set(urls)\n",
    "    unique_urls = list(unique_urls)\n",
    "    return unique_urls[:200]"
   ]
  },
  {
   "cell_type": "code",
   "execution_count": null,
   "metadata": {},
   "outputs": [],
   "source": [
    "def get_page_domen(page_url):\n",
    "    u = urlparse(page_url)\n",
    "    return \"http://\" + u.hostname"
   ]
  },
  {
   "cell_type": "code",
   "execution_count": null,
   "metadata": {},
   "outputs": [],
   "source": [
    "def save_pages_text_to_files(url, url_links):\n",
    "    file_number = 1\n",
    "\n",
    "    for link in url_links:\n",
    "        page = requests.get(link)\n",
    "        soup = BeautifulSoup(page.text)\n",
    "\n",
    "        h = html2text.HTML2Text()\n",
    "        h.ignore_links = True\n",
    "        text = h.handle(soup.prettify())\n",
    "\n",
    "        if len(text.split()) > 500:\n",
    "            print(str(file_number) + \" \" + link)\n",
    "            with open('files/file_{0}.txt'.format(file_number), 'w', encoding='utf-8') as file:\n",
    "                file.write(text)\n",
    "            with open('files/index.txt', 'a') as file:\n",
    "                file.writelines(str(file_number) + \" \" + link + \"\\n\") \n",
    "            file_number = file_number + 1\n",
    "        else: \n",
    "            print(\"no\")"
   ]
  },
  {
   "cell_type": "code",
   "execution_count": null,
   "metadata": {},
   "outputs": [],
   "source": [
    "url = 'https://ru.wikipedia.org/wiki/Мороженое'\n",
    "url_links = get_page_links(url)\n",
    "save_pages_text_to_files(url, url_links)"
   ]
  },
  {
   "cell_type": "code",
   "execution_count": null,
   "metadata": {},
   "outputs": [],
   "source": []
  },
  {
   "cell_type": "code",
   "execution_count": null,
   "metadata": {},
   "outputs": [],
   "source": []
  }
 ],
 "metadata": {
  "kernelspec": {
   "display_name": "Python 3",
   "language": "python",
   "name": "python3"
  },
  "language_info": {
   "codemirror_mode": {
    "name": "ipython",
    "version": 3
   },
   "file_extension": ".py",
   "mimetype": "text/x-python",
   "name": "python",
   "nbconvert_exporter": "python",
   "pygments_lexer": "ipython3",
   "version": "3.7.6"
  }
 },
 "nbformat": 4,
 "nbformat_minor": 4
}
