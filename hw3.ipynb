{
 "cells": [
  {
   "cell_type": "code",
   "execution_count": 1,
   "metadata": {},
   "outputs": [
    {
     "name": "stderr",
     "output_type": "stream",
     "text": [
      "[nltk_data] Downloading package stopwords to\n",
      "[nltk_data]     C:\\Users\\Администратор\\AppData\\Roaming\\nltk_data...\n",
      "[nltk_data]   Package stopwords is already up-to-date!\n"
     ]
    },
    {
     "data": {
      "text/plain": [
       "True"
      ]
     },
     "execution_count": 1,
     "metadata": {},
     "output_type": "execute_result"
    }
   ],
   "source": [
    "import numpy as np\n",
    "import string\n",
    "import pymorphy2\n",
    "import re\n",
    "import nltk\n",
    "from nltk.corpus import stopwords\n",
    "nltk.download('stopwords')"
   ]
  },
  {
   "cell_type": "code",
   "execution_count": 2,
   "metadata": {},
   "outputs": [],
   "source": [
    "def tokenization(text):\n",
    "    result = []\n",
    "    r = re.compile(\"^[а-яА-ЯёЁ]+$\") \n",
    "\n",
    "    for line in text:\n",
    "        \n",
    "        line = line.lower()\n",
    "        line = re.sub(r'[^\\w\\s]','', line)\n",
    "        line = [t for t in line.split() if t not in stopwords.words('russian')]\n",
    "        temp = [word for word in filter(r.match, line)]\n",
    "        result += temp\n",
    "\n",
    "    return result"
   ]
  },
  {
   "cell_type": "code",
   "execution_count": 3,
   "metadata": {},
   "outputs": [],
   "source": [
    "file_number = 1\n",
    "index = {}\n",
    "morph = pymorphy2.MorphAnalyzer(lang='ru')\n",
    "\n",
    "while file_number<=165:\n",
    "    with open('files/file_{0}.txt'.format(file_number), encoding='utf-8') as file:\n",
    "        text = [row.strip() for row in file]\n",
    "        tokens = tokenization(text)\n",
    "        for item in tokens:\n",
    "            lemma = morph.parse(item)[0].normal_form\n",
    "            if lemma in index:\n",
    "                if file_number not in index[lemma]:\n",
    "                    index[lemma].append(file_number)\n",
    "            else:\n",
    "                index[lemma] = [file_number]\n",
    "    file_number = file_number + 1"
   ]
  },
  {
   "cell_type": "code",
   "execution_count": 4,
   "metadata": {},
   "outputs": [],
   "source": [
    "with open('files/inverted_index.txt','a') as file:\n",
    "    for key,val in index.items():\n",
    "        file.write('\\n{} '.format(key))\n",
    "        for item in val:\n",
    "            file.write('{} '.format(item))"
   ]
  },
  {
   "cell_type": "code",
   "execution_count": 5,
   "metadata": {},
   "outputs": [],
   "source": [
    "file = open(\"files/inverted_index.txt\")\n",
    "onstring = file.read().split(\"\\n\")[:-1]\n",
    "\n",
    "inverted_index = dict()\n",
    "\n",
    "for item in onstring:\n",
    "    key = item.split(\" \")[0]\n",
    "    value = item.split(\" \")[1:]\n",
    "    inverted_index[key] = value\n",
    "\n",
    "file.close()"
   ]
  },
  {
   "cell_type": "code",
   "execution_count": 6,
   "metadata": {},
   "outputs": [
    {
     "name": "stdout",
     "output_type": "stream",
     "text": [
      "мороженое\n",
      "молоко\n",
      "холод\n",
      "result: \n",
      "{'72', '5', '15', '20', '95', '46', '76', '159', '126', '101', '79', '39', '138', '160', '84', '140', '35', '52', '111', '136', '105', '57', '63', '118', '60'}\n"
     ]
    }
   ],
   "source": [
    "query=\"мороженое OR молоко AND NOT холод\"\n",
    "\n",
    "result_set=set()\n",
    "operation=None\n",
    "\n",
    "for word in re.split(\" +(AND|OR) +\",query):\n",
    "\n",
    "    inverted=False\n",
    "\n",
    "    if word in ['AND','OR']:\n",
    "        operation=word\n",
    "        continue\n",
    "\n",
    "    if word.find('NOT ') == 0:\n",
    "        if operation == 'OR':\n",
    "            continue\n",
    "\n",
    "        inverted=True\n",
    "        realword=word[4:]\n",
    "        print(realword)\n",
    "    else:\n",
    "        realword=word\n",
    "        print(realword)\n",
    "\n",
    "    if operation is not None:\n",
    "        current_set=set(inverted_index[realword])\n",
    "\n",
    "        if operation == 'AND':\n",
    "            if inverted == True:\n",
    "                result_set -= current_set\n",
    "            else:\n",
    "                result_set &= current_set\n",
    "        elif operation == 'OR':\n",
    "            result_set |= current_set\n",
    "\n",
    "    operation=None\n",
    "\n",
    "print(\"result: \")\n",
    "print(result_set)"
   ]
  },
  {
   "cell_type": "code",
   "execution_count": null,
   "metadata": {},
   "outputs": [],
   "source": []
  }
 ],
 "metadata": {
  "kernelspec": {
   "display_name": "Python 3",
   "language": "python",
   "name": "python3"
  },
  "language_info": {
   "codemirror_mode": {
    "name": "ipython",
    "version": 3
   },
   "file_extension": ".py",
   "mimetype": "text/x-python",
   "name": "python",
   "nbconvert_exporter": "python",
   "pygments_lexer": "ipython3",
   "version": "3.7.6"
  }
 },
 "nbformat": 4,
 "nbformat_minor": 4
}
